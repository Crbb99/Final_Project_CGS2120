{
  "nbformat": 4,
  "nbformat_minor": 0,
  "metadata": {
    "colab": {
      "provenance": [],
      "authorship_tag": "ABX9TyNB0578VZ/vb6tjwNR+mroN",
      "include_colab_link": true
    },
    "kernelspec": {
      "name": "python3",
      "display_name": "Python 3"
    },
    "language_info": {
      "name": "python"
    }
  },
  "cells": [
    {
      "cell_type": "markdown",
      "metadata": {
        "id": "view-in-github",
        "colab_type": "text"
      },
      "source": [
        "<a href=\"https://colab.research.google.com/github/Crbb99/MyFinalProjectPythonClass/blob/main/Exercise_Nov14_Caelan_Beebe.ipynb\" target=\"_parent\"><img src=\"https://colab.research.google.com/assets/colab-badge.svg\" alt=\"Open In Colab\"/></a>"
      ]
    },
    {
      "cell_type": "code",
      "execution_count": null,
      "metadata": {
        "colab": {
          "base_uri": "https://localhost:8080/"
        },
        "id": "vIqa6ne6GKLA",
        "outputId": "10ba74ff-de8c-4fe2-ec4d-1663702d8e3a"
      },
      "outputs": [
        {
          "output_type": "stream",
          "name": "stdout",
          "text": [
            "4\n",
            "0\n"
          ]
        }
      ],
      "source": [
        "class circle(object):\n",
        "  #how to initialize an object\n",
        "  def __init__(self):\n",
        "    #a new circle has an initial radius of 0\n",
        "    self.radius = 0\n",
        "  #other methods\n",
        "  def change_radius(self, radius):\n",
        "    self.radius = radius\n",
        "  def get_radius(self):\n",
        "    return self.radius\n",
        "\n",
        "one_circle = circle()\n",
        "another_circle = circle()\n",
        "\n",
        "one_circle.change_radius(4)\n",
        "print (one_circle.get_radius())\n",
        "print (another_circle.get_radius())"
      ]
    }
  ]
}